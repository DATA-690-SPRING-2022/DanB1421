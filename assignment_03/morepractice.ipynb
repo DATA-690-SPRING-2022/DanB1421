{
  "nbformat": 4,
  "nbformat_minor": 0,
  "metadata": {
    "colab": {
      "name": "Untitled0.ipynb",
      "provenance": [],
      "authorship_tag": "ABX9TyNL6KFZNBZDWVbHsnXCkVqL",
      "include_colab_link": true
    },
    "kernelspec": {
      "name": "python3",
      "display_name": "Python 3"
    },
    "language_info": {
      "name": "python"
    }
  },
  "cells": [
    {
      "cell_type": "markdown",
      "metadata": {
        "id": "view-in-github",
        "colab_type": "text"
      },
      "source": [
        "<a href=\"https://colab.research.google.com/github/DanB1421/DanB1421/blob/main/assignment_03/morepractice.ipynb\" target=\"_parent\"><img src=\"https://colab.research.google.com/assets/colab-badge.svg\" alt=\"Open In Colab\"/></a>"
      ]
    },
    {
      "cell_type": "markdown",
      "source": [
        "# In Class Practice\n",
        "\n",
        "importing python custom developed modules"
      ],
      "metadata": {
        "id": "5nuvHmssCGEo"
      }
    },
    {
      "cell_type": "code",
      "source": [
        "import myfunction"
      ],
      "metadata": {
        "id": "mu4--_unCL2n"
      },
      "execution_count": 2,
      "outputs": []
    },
    {
      "cell_type": "code",
      "source": [
        "x = myfunction.min([3,4,5,6,8])\n",
        "\n",
        "print(x)"
      ],
      "metadata": {
        "colab": {
          "base_uri": "https://localhost:8080/"
        },
        "id": "yddLur6nCbXu",
        "outputId": "dd5d2316-444f-406d-9b86-0c2d405baa7f"
      },
      "execution_count": 4,
      "outputs": [
        {
          "output_type": "stream",
          "name": "stdout",
          "text": [
            "3\n"
          ]
        }
      ]
    },
    {
      "cell_type": "code",
      "source": [
        "x = myfunction.max([3,4,5,6,8])\n",
        "\n",
        "print(x)"
      ],
      "metadata": {
        "colab": {
          "base_uri": "https://localhost:8080/"
        },
        "id": "o5L5yGY8C6y7",
        "outputId": "e7344a3d-97f8-4f92-b527-7754ba569924"
      },
      "execution_count": 5,
      "outputs": [
        {
          "output_type": "stream",
          "name": "stdout",
          "text": [
            "8\n"
          ]
        }
      ]
    },
    {
      "cell_type": "code",
      "source": [
        "# Example of clean code for Assignment 2:\n",
        "list = []\n",
        "i = 0\n",
        "\n",
        "while i < 10:\n",
        "    x = input(\"Please enter a number:\")\n",
        "    try:\n",
        "        y = int(x)\n",
        "        list.append(y)\n",
        "        i = i + 1\n",
        "    except:\n",
        "        print(\"You must enter a number. Please try again\")\n",
        "\n",
        "print(\"Your output is: \", list)"
      ],
      "metadata": {
        "colab": {
          "base_uri": "https://localhost:8080/"
        },
        "id": "49F3EY40Imxm",
        "outputId": "8997e5a5-b7f4-483a-e464-beddff638bd6"
      },
      "execution_count": 8,
      "outputs": [
        {
          "output_type": "stream",
          "name": "stdout",
          "text": [
            "Please enter a number:1\n",
            "Please enter a number:2\n",
            "Please enter a number:3\n",
            "Please enter a number:4\n",
            "Please enter a number:5\n",
            "Please enter a number:t\n",
            "You must enter a number. Please try again\n",
            "Please enter a number:6\n",
            "Please enter a number:7\n",
            "Please enter a number:8\n",
            "Please enter a number:9\n",
            "Please enter a number:20\n",
            "Your output is:  [1, 2, 3, 4, 5, 6, 7, 8, 9, 20]\n"
          ]
        }
      ]
    }
  ]
}