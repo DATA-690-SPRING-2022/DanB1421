{
  "nbformat": 4,
  "nbformat_minor": 0,
  "metadata": {
    "colab": {
      "name": "help_for_hw03.ipynb",
      "provenance": [],
      "authorship_tag": "ABX9TyN+dh2SooVrEoSnzvCfWIv7",
      "include_colab_link": true
    },
    "kernelspec": {
      "name": "python3",
      "display_name": "Python 3"
    },
    "language_info": {
      "name": "python"
    }
  },
  "cells": [
    {
      "cell_type": "markdown",
      "metadata": {
        "id": "view-in-github",
        "colab_type": "text"
      },
      "source": [
        "<a href=\"https://colab.research.google.com/github/DanB1421/DanB1421/blob/main/assignment_03/help_for_hw03.ipynb\" target=\"_parent\"><img src=\"https://colab.research.google.com/assets/colab-badge.svg\" alt=\"Open In Colab\"/></a>"
      ]
    },
    {
      "cell_type": "code",
      "execution_count": 2,
      "metadata": {
        "colab": {
          "base_uri": "https://localhost:8080/"
        },
        "id": "U5yAZr6fw1z7",
        "outputId": "cf23a762-bcb4-4468-935f-98d8954eae84"
      },
      "outputs": [
        {
          "output_type": "stream",
          "name": "stdout",
          "text": [
            "[2, 5, 12, 'jay', 'wang']\n"
          ]
        }
      ],
      "source": [
        "x = [2,5,12, \"jay\", \"wang\"]\n",
        "\n",
        "print(x)"
      ]
    },
    {
      "cell_type": "code",
      "source": [
        "for a in x:\n",
        "    print(a, end=\" * \")"
      ],
      "metadata": {
        "colab": {
          "base_uri": "https://localhost:8080/"
        },
        "id": "LOxG4cECxVUk",
        "outputId": "0fe12556-d586-4511-e18c-d609f5e4129d"
      },
      "execution_count": 11,
      "outputs": [
        {
          "output_type": "stream",
          "name": "stdout",
          "text": [
            "2 * 5 * 12 * jay * wang * "
          ]
        }
      ]
    },
    {
      "cell_type": "code",
      "source": [
        "5 in x"
      ],
      "metadata": {
        "colab": {
          "base_uri": "https://localhost:8080/"
        },
        "id": "TvJ4mxsrxkkc",
        "outputId": "a49c0ed4-3b53-4926-e935-0a160188f670"
      },
      "execution_count": 4,
      "outputs": [
        {
          "output_type": "execute_result",
          "data": {
            "text/plain": [
              "True"
            ]
          },
          "metadata": {},
          "execution_count": 4
        }
      ]
    },
    {
      "cell_type": "code",
      "source": [
        "if 5 in x:\n",
        "    print(\"5 is a member of a list x.\")\n",
        "else:\n",
        "    print(\"5 is not a member.\")"
      ],
      "metadata": {
        "colab": {
          "base_uri": "https://localhost:8080/"
        },
        "id": "sfbPqgMLx66h",
        "outputId": "f9837d5b-f35b-4b76-e7a1-8936a480bc67"
      },
      "execution_count": 5,
      "outputs": [
        {
          "output_type": "stream",
          "name": "stdout",
          "text": [
            "5 is a member of a list x.\n"
          ]
        }
      ]
    },
    {
      "cell_type": "code",
      "source": [
        "y = [5, 1, 5, 6, 2, 7, 8, 6, 4, 2]\n",
        "\n",
        "print(y)"
      ],
      "metadata": {
        "colab": {
          "base_uri": "https://localhost:8080/"
        },
        "id": "QsbKp8WBy4l3",
        "outputId": "2ba2c69d-d34e-4a5a-a46a-5c1f5914cb8e"
      },
      "execution_count": 7,
      "outputs": [
        {
          "output_type": "stream",
          "name": "stdout",
          "text": [
            "[5, 1, 5, 6, 2, 7, 8, 6, 4, 2]\n"
          ]
        }
      ]
    },
    {
      "cell_type": "code",
      "source": [
        "for b in y:\n",
        "    print(b)"
      ],
      "metadata": {
        "colab": {
          "base_uri": "https://localhost:8080/"
        },
        "id": "JJ6V9GhozExC",
        "outputId": "33e13490-f992-4dbd-8264-a155ac74a3b2"
      },
      "execution_count": 8,
      "outputs": [
        {
          "output_type": "stream",
          "name": "stdout",
          "text": [
            "5\n",
            "1\n",
            "5\n",
            "6\n",
            "2\n",
            "7\n",
            "8\n",
            "6\n",
            "4\n",
            "2\n"
          ]
        }
      ]
    },
    {
      "cell_type": "code",
      "source": [
        "for b in y:\n",
        "    print(b, end=\" \")"
      ],
      "metadata": {
        "colab": {
          "base_uri": "https://localhost:8080/"
        },
        "id": "h0euawNNzPcm",
        "outputId": "e76b0253-fb55-43dc-aac8-2a3971ff27e8"
      },
      "execution_count": 9,
      "outputs": [
        {
          "output_type": "stream",
          "name": "stdout",
          "text": [
            "5 1 5 6 2 7 8 6 4 2 "
          ]
        }
      ]
    },
    {
      "cell_type": "code",
      "source": [
        "import random"
      ],
      "metadata": {
        "id": "r3Mt6uJ3zu3T"
      },
      "execution_count": 14,
      "outputs": []
    },
    {
      "cell_type": "code",
      "source": [
        "random.randint(0, 9)"
      ],
      "metadata": {
        "colab": {
          "base_uri": "https://localhost:8080/"
        },
        "id": "NXXt4oXUz4CY",
        "outputId": "b933d3a5-74cc-4fb6-f758-0d674a45f5f4"
      },
      "execution_count": 31,
      "outputs": [
        {
          "output_type": "execute_result",
          "data": {
            "text/plain": [
              "1"
            ]
          },
          "metadata": {},
          "execution_count": 31
        }
      ]
    },
    {
      "cell_type": "code",
      "source": [
        "for i in range(10):\n",
        "    print(random.randint(0,9), end=\" \")"
      ],
      "metadata": {
        "colab": {
          "base_uri": "https://localhost:8080/"
        },
        "id": "14EjyzlA0e5w",
        "outputId": "5039737e-368c-435c-fa3a-ec32eedc0a56"
      },
      "execution_count": 39,
      "outputs": [
        {
          "output_type": "stream",
          "name": "stdout",
          "text": [
            "2 6 1 2 3 4 2 0 9 2 "
          ]
        }
      ]
    },
    {
      "cell_type": "code",
      "source": [
        "for j in range(10):\n",
        "    for i in range(10):\n",
        "        print(random.randint(0,9), end=\" \")\n",
        "#    print(\"\\n\", end=\"\")   one way to do it\n",
        "    print(\"\")            # other way"
      ],
      "metadata": {
        "colab": {
          "base_uri": "https://localhost:8080/"
        },
        "id": "Ym48AALy11vx",
        "outputId": "3f183e20-6d98-43f5-92fb-82d902ba77c8"
      },
      "execution_count": 45,
      "outputs": [
        {
          "output_type": "stream",
          "name": "stdout",
          "text": [
            "9 9 9 2 9 6 1 9 3 2 \n",
            "3 6 0 5 6 7 0 1 6 3 \n",
            "0 8 0 0 0 3 9 1 0 2 \n",
            "2 0 1 1 5 6 4 0 9 7 \n",
            "2 2 6 0 3 2 4 6 1 1 \n",
            "2 6 7 8 8 7 2 4 0 3 \n",
            "3 1 1 0 0 5 7 3 2 0 \n",
            "1 5 6 1 2 2 3 9 8 5 \n",
            "0 7 8 4 7 9 1 3 3 6 \n",
            "0 9 7 6 5 6 9 2 9 3 \n"
          ]
        }
      ]
    }
  ]
}