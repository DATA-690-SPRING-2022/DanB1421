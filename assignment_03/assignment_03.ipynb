{
  "nbformat": 4,
  "nbformat_minor": 0,
  "metadata": {
    "colab": {
      "name": "assignment_03.ipynb",
      "provenance": [],
      "collapsed_sections": [],
      "authorship_tag": "ABX9TyNNJvsEBQ9faY9Ijel0I7ov",
      "include_colab_link": true
    },
    "kernelspec": {
      "name": "python3",
      "display_name": "Python 3"
    },
    "language_info": {
      "name": "python"
    }
  },
  "cells": [
    {
      "cell_type": "markdown",
      "metadata": {
        "id": "view-in-github",
        "colab_type": "text"
      },
      "source": [
        "<a href=\"https://colab.research.google.com/github/DanB1421/DanB1421/blob/main/assignment_03/assignment_03.ipynb\" target=\"_parent\"><img src=\"https://colab.research.google.com/assets/colab-badge.svg\" alt=\"Open In Colab\"/></a>"
      ]
    },
    {
      "cell_type": "markdown",
      "source": [
        "# Assignment 03\n",
        "\n",
        "- Name: Daniel Brilliant\n",
        "- Date: 02/17/2022"
      ],
      "metadata": {
        "id": "ho2eQMEkG3dt"
      }
    },
    {
      "cell_type": "markdown",
      "source": [
        "## Before any steps are taken, the random module must be imported."
      ],
      "metadata": {
        "id": "o4dj3q8sHKxu"
      }
    },
    {
      "cell_type": "code",
      "source": [
        "import random"
      ],
      "metadata": {
        "id": "RVUMsQleHAGM"
      },
      "execution_count": 243,
      "outputs": []
    },
    {
      "cell_type": "markdown",
      "source": [
        "## Step 1: Print 100 random integers between 0 and 9 in a 10 by 10 matrix arranged with one space between each number"
      ],
      "metadata": {
        "id": "w3OYSEJ3HSza"
      }
    },
    {
      "cell_type": "code",
      "source": [
        "n = 10  # set matrix dimension\n",
        "\n",
        "for row in range(n):  # set row length to defined dimension\n",
        "    for col in range(n):  # set column length to defined dimension\n",
        "        x = random.randint(0,9)  # define random integer generator to produce random values between 0 and 9\n",
        "        print(x, end=\" \")  # generate random integers with spaces\n",
        "    print(\"\\n\", end=\"\")  # orient matrix"
      ],
      "metadata": {
        "colab": {
          "base_uri": "https://localhost:8080/"
        },
        "id": "zgBnokl5HDK5",
        "outputId": "19c75adf-9a08-49de-b500-79894ec3e053"
      },
      "execution_count": 244,
      "outputs": [
        {
          "output_type": "stream",
          "name": "stdout",
          "text": [
            "9 3 4 6 9 5 3 5 9 7 \n",
            "2 6 0 4 5 6 6 7 2 9 \n",
            "9 8 5 7 2 4 2 0 5 8 \n",
            "5 1 3 1 8 0 8 1 8 8 \n",
            "4 7 3 7 0 9 1 6 5 0 \n",
            "5 5 0 5 8 8 7 7 7 6 \n",
            "3 2 5 0 3 9 4 4 8 4 \n",
            "2 7 6 3 3 3 3 4 4 6 \n",
            "7 1 5 4 9 8 2 5 8 6 \n",
            "4 6 1 6 3 3 5 8 5 1 \n"
          ]
        }
      ]
    },
    {
      "cell_type": "markdown",
      "source": [
        "## Step 2: If the random number is odd, print an \"@\" instead of the number."
      ],
      "metadata": {
        "id": "MGi0Vq_LH2hW"
      }
    },
    {
      "cell_type": "code",
      "source": [
        "n = 10  # set matrix dimension\n",
        "\n",
        "for row in range(n):  # set row length to defined dimension\n",
        "    for col in range(n):  # set column length to defined dimension\n",
        "        x = random.randint(0,9)  # define random integer generator to produce random values between 0 and 9\n",
        "        if x % 2 == 0:  \n",
        "            print(x, end=\" \")  # if random integers are even/divisible by 2, generate random integers with spaces\n",
        "        else:\n",
        "            print(\"@\", end=\" \")  # if random integers are odd/not divisible by 2, generate @ with spaces\n",
        "    print(\"\\n\", end=\"\")  # orient matrix"
      ],
      "metadata": {
        "colab": {
          "base_uri": "https://localhost:8080/"
        },
        "id": "VVq5ypUJH-mv",
        "outputId": "c7e8f8b9-6f5d-4d04-9367-c3b09d42de42"
      },
      "execution_count": 245,
      "outputs": [
        {
          "output_type": "stream",
          "name": "stdout",
          "text": [
            "8 6 @ 2 0 @ @ @ 0 @ \n",
            "4 @ 0 4 @ @ @ @ 8 8 \n",
            "6 8 @ @ @ 2 2 2 6 0 \n",
            "8 0 0 0 @ @ 4 2 2 4 \n",
            "6 8 @ @ @ 2 2 @ @ @ \n",
            "@ @ 4 4 2 @ 0 @ 4 0 \n",
            "@ 8 @ @ @ @ @ 2 @ 8 \n",
            "6 0 @ @ 8 @ 0 @ 2 8 \n",
            "@ 4 8 8 8 @ @ 4 @ @ \n",
            "8 2 2 6 @ @ @ 4 @ 4 \n"
          ]
        }
      ]
    },
    {
      "cell_type": "markdown",
      "source": [
        "## Step 3: Calculate and print the total of each row, with \"*\" separating the total from the numbers"
      ],
      "metadata": {
        "id": "cDwuMMm6J8xX"
      }
    },
    {
      "cell_type": "code",
      "source": [
        "n = 10  # set matrix dimension\n",
        "sum = [0]*n  # define row sums as a list as long as the total number of rows\n",
        "\n",
        "for row in range(n):  # set row length to defined dimension\n",
        "    for col in range(n):  # set column length to defined dimension\n",
        "        x = random.randint(0,9)  # define random integer generator to produce random values between 0 and 9\n",
        "        sum[row] = sum[row] + x  # define row sums to be determined by the integers in each row\n",
        "        print(x, end=\" \")  # generate random integers with spaces\n",
        "    print(\"*\", sum[row])  # end rows with asterisks followed by the defined row sums"
      ],
      "metadata": {
        "colab": {
          "base_uri": "https://localhost:8080/"
        },
        "id": "Z9rfUtiGlkER",
        "outputId": "e043f8af-849d-4f37-9ca4-6e228a8bc69f"
      },
      "execution_count": 250,
      "outputs": [
        {
          "output_type": "stream",
          "name": "stdout",
          "text": [
            "4 5 5 6 8 2 2 6 9 9 * 56\n",
            "9 9 2 7 7 2 5 1 6 6 * 54\n",
            "1 5 9 9 0 8 6 5 4 8 * 55\n",
            "8 2 6 4 9 5 1 4 1 5 * 45\n",
            "3 3 4 0 8 2 7 9 4 9 * 49\n",
            "4 8 1 2 1 0 6 0 6 7 * 35\n",
            "2 7 7 1 5 8 2 6 4 0 * 42\n",
            "6 1 8 6 9 6 2 6 0 9 * 53\n",
            "1 6 2 0 4 5 2 0 4 1 * 25\n",
            "8 6 5 3 2 3 1 0 6 1 * 35\n"
          ]
        }
      ]
    },
    {
      "cell_type": "markdown",
      "source": [
        "## Step 4: Surround the matrix with asterisks"
      ],
      "metadata": {
        "id": "hUa3Gv9VeE_3"
      }
    },
    {
      "cell_type": "code",
      "source": [
        "n = 10  # set matrix dimension\n",
        "b = (2 * n) + 3  # set dimension of matrix upper and lower border\n",
        "\n",
        "for row in range(b):  # set dimension of upper border\n",
        "    print(\"*\", end=\"\")  # produce upper border of 23 unspaced asterisks\n",
        "print(\"\\n\", end=\"\")  # orient matrix below the upper border\n",
        "\n",
        "for row in range(n):  # set row length to defined dimension\n",
        "    print(\"*\", end=\" \")  # start each row with asterisk followed by space\n",
        "    for col in range(n):  # set column length to defined dimension\n",
        "        x = random.randint(0,9)  # define random integer generator to produce random values between 0 and 9\n",
        "        print(x, end=\" \")  # generate random integers with spaces\n",
        "    print(\"*\")  # end each row with asterisk\n",
        "\n",
        "for row in range(b):  # set dimension of lower border\n",
        "    print(\"*\", end=\"\")  # produce lower border of 23 unspaced asterisks"
      ],
      "metadata": {
        "colab": {
          "base_uri": "https://localhost:8080/"
        },
        "id": "LL2xJ8PjpYvs",
        "outputId": "b5b92821-e58e-4391-8afc-7e44448fe608"
      },
      "execution_count": 237,
      "outputs": [
        {
          "output_type": "stream",
          "name": "stdout",
          "text": [
            "***********************\n",
            "* 1 2 0 8 6 2 9 4 4 9 *\n",
            "* 5 0 2 6 7 3 4 0 4 7 *\n",
            "* 0 3 6 9 5 8 0 1 8 0 *\n",
            "* 6 7 7 1 4 7 4 9 2 4 *\n",
            "* 9 7 4 8 9 2 9 6 5 3 *\n",
            "* 4 6 6 3 2 9 6 3 3 2 *\n",
            "* 3 4 5 7 1 1 5 3 9 5 *\n",
            "* 6 9 2 2 5 5 0 0 5 3 *\n",
            "* 7 5 7 3 8 4 1 0 9 1 *\n",
            "* 8 9 5 1 0 3 6 6 6 4 *\n",
            "***********************"
          ]
        }
      ]
    },
    {
      "cell_type": "markdown",
      "source": [
        "## Step 5: Calculate and print the total of each row and column"
      ],
      "metadata": {
        "id": "Q1IcL5_8MdJs"
      }
    },
    {
      "cell_type": "code",
      "source": [
        "n = 10  # set matrix dimension\n",
        "sum_r = [0]*n  # define row sums as a list as long as the total number of rows\n",
        "sum_c = [0]*n  # define column sums as a list as long as the total number of columns\n",
        "\n",
        "for row in range(n):  # set row length to defined dimension\n",
        "    for col in range(n):  # set column length to defined dimension\n",
        "        x = random.randint(0,9)  # define random integer generator to produce random values between 0 and 9\n",
        "        sum_r[row] = sum_r[row] + x  # define row sums to be determined by the integers in each row\n",
        "        sum_c[col] = sum_c[col] + x  # define column sums to be determined by the integers in each column\n",
        "        print(x, end=\"  \")  # generate random integers with double spaces\n",
        "    print(\"*\", sum_r[row])  # end rows with asterisks followed by the defined row sums\n",
        "\n",
        "for col in range(n):\n",
        "    print(\"*\", end=\"  \")  # end columns with asterisks \n",
        "print(\"\\n\", end=\"\")  # orient column sums in row below asterisks \n",
        "\n",
        "for col in range(n):\n",
        "    print(sum_c[col], end=\" \")  # end columns with defined column sums under each asterisk"
      ],
      "metadata": {
        "colab": {
          "base_uri": "https://localhost:8080/"
        },
        "id": "0v4A6jgrnZwt",
        "outputId": "14c6db06-acb4-414c-92bc-f3ac9084c281"
      },
      "execution_count": 259,
      "outputs": [
        {
          "output_type": "stream",
          "name": "stdout",
          "text": [
            "4  2  1  4  8  1  1  0  8  3  * 32\n",
            "4  5  7  8  8  5  8  7  6  2  * 60\n",
            "3  0  9  3  9  3  2  5  6  2  * 42\n",
            "0  6  1  8  2  0  1  4  5  8  * 35\n",
            "9  4  2  5  3  2  9  6  1  1  * 42\n",
            "5  5  6  6  0  3  8  4  6  2  * 45\n",
            "0  9  7  5  5  8  3  0  0  1  * 38\n",
            "6  4  7  8  8  2  4  0  1  2  * 42\n",
            "7  3  4  0  9  8  9  3  0  5  * 48\n",
            "3  3  4  6  2  7  3  9  4  0  * 41\n",
            "*  *  *  *  *  *  *  *  *  *  \n",
            "41 41 48 53 54 39 48 38 37 26 "
          ]
        }
      ]
    }
  ]
}