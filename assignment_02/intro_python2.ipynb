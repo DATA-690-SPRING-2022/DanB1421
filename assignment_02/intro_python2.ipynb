{
  "nbformat": 4,
  "nbformat_minor": 0,
  "metadata": {
    "colab": {
      "name": "intro_python2.ipynb",
      "provenance": [],
      "authorship_tag": "ABX9TyP2MXvShq0UuedNkDlXsGCh",
      "include_colab_link": true
    },
    "kernelspec": {
      "name": "python3",
      "display_name": "Python 3"
    },
    "language_info": {
      "name": "python"
    }
  },
  "cells": [
    {
      "cell_type": "markdown",
      "metadata": {
        "id": "view-in-github",
        "colab_type": "text"
      },
      "source": [
        "<a href=\"https://colab.research.google.com/github/DanB1421/DanB1421/blob/main/assignment_02/intro_python2.ipynb\" target=\"_parent\"><img src=\"https://colab.research.google.com/assets/colab-badge.svg\" alt=\"Open In Colab\"/></a>"
      ]
    },
    {
      "cell_type": "markdown",
      "source": [
        "# Introduction to Python - Part 2\n",
        "\n",
        "- Name: Daniel Brilliant\n",
        "- Date: 2/8/2022"
      ],
      "metadata": {
        "id": "HM3xHjjVAMvQ"
      }
    },
    {
      "cell_type": "code",
      "source": [
        "x = input(\"Please tell me your age:\")"
      ],
      "metadata": {
        "colab": {
          "base_uri": "https://localhost:8080/"
        },
        "id": "SdrMbYWtAdXc",
        "outputId": "efcdd1c1-0f89-48f9-a993-23e85a07029f"
      },
      "execution_count": 11,
      "outputs": [
        {
          "name": "stdout",
          "output_type": "stream",
          "text": [
            "Please tell me your age:24\n"
          ]
        }
      ]
    },
    {
      "cell_type": "code",
      "source": [
        "print(\"Your age is\", x)"
      ],
      "metadata": {
        "colab": {
          "base_uri": "https://localhost:8080/"
        },
        "id": "H2ZcL5YdAqvy",
        "outputId": "e78ee03d-1899-4baa-e682-1f548b629d71"
      },
      "execution_count": 12,
      "outputs": [
        {
          "output_type": "stream",
          "name": "stdout",
          "text": [
            "Your age is 24\n"
          ]
        }
      ]
    },
    {
      "cell_type": "code",
      "source": [
        "type(x)"
      ],
      "metadata": {
        "colab": {
          "base_uri": "https://localhost:8080/"
        },
        "id": "ZztFjq9UA4yG",
        "outputId": "b7129f62-d799-45fe-b29a-7fa5139dfc04"
      },
      "execution_count": 4,
      "outputs": [
        {
          "output_type": "execute_result",
          "data": {
            "text/plain": [
              "str"
            ]
          },
          "metadata": {},
          "execution_count": 4
        }
      ]
    },
    {
      "cell_type": "code",
      "source": [
        "y = input(\"What is your age:\")"
      ],
      "metadata": {
        "colab": {
          "base_uri": "https://localhost:8080/"
        },
        "id": "oNUsfWEhBExq",
        "outputId": "bf9678b0-f038-4fee-99ae-cff1482c0b06"
      },
      "execution_count": 13,
      "outputs": [
        {
          "name": "stdout",
          "output_type": "stream",
          "text": [
            "What is your age:one hundred\n"
          ]
        }
      ]
    },
    {
      "cell_type": "code",
      "source": [
        "type(y)"
      ],
      "metadata": {
        "colab": {
          "base_uri": "https://localhost:8080/"
        },
        "id": "ptmNpyVsBKA7",
        "outputId": "703cb8b0-3efa-4b8f-c882-d62230708f83"
      },
      "execution_count": 10,
      "outputs": [
        {
          "output_type": "execute_result",
          "data": {
            "text/plain": [
              "str"
            ]
          },
          "metadata": {},
          "execution_count": 10
        }
      ]
    },
    {
      "cell_type": "code",
      "source": [
        "x = input(\"your age:\") # indent four spaces after each condition\n",
        "\n",
        "y = int(x)\n",
        "\n",
        "if y == 56:\n",
        "    print(\"You and I have the same age.\")\n",
        "elif y > 56:\n",
        "    print(\"You are older than me\")\n",
        "else:\n",
        "    print(\"You are younger than me\")"
      ],
      "metadata": {
        "colab": {
          "base_uri": "https://localhost:8080/"
        },
        "id": "3XeMsvKPB1Wn",
        "outputId": "acb2680a-5ae3-4b69-fa42-526c594f45aa"
      },
      "execution_count": 18,
      "outputs": [
        {
          "output_type": "stream",
          "name": "stdout",
          "text": [
            "your age:56\n",
            "You and I have the same age.\n"
          ]
        }
      ]
    },
    {
      "cell_type": "code",
      "source": [
        "while True:\n",
        "    x = input(\"your age:\")\n",
        "    try:\n",
        "        y = int(x)\n",
        "        break\n",
        "    except:\n",
        "        continue\n",
        "\n",
        "y = int(x)\n",
        "\n",
        "if y == 56:\n",
        "    print(\"You and I have the same age.\")\n",
        "elif y > 56:\n",
        "    print(\"You are older than me\")\n",
        "else:\n",
        "    print(\"You are younger than me\")"
      ],
      "metadata": {
        "colab": {
          "base_uri": "https://localhost:8080/"
        },
        "id": "VnTZ7kS7DJyz",
        "outputId": "b7d2db9c-416d-41ef-b381-d50dca5949d6"
      },
      "execution_count": 19,
      "outputs": [
        {
          "output_type": "stream",
          "name": "stdout",
          "text": [
            "your age:jay\n",
            "your age:wefeaferfegwrgr\n",
            "your age:tern\n",
            "your age:dasfdgffgdfadf\n",
            "your age:10\n",
            "You are younger than me\n"
          ]
        }
      ]
    }
  ]
}