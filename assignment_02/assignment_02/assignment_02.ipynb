{
  "nbformat": 4,
  "nbformat_minor": 0,
  "metadata": {
    "colab": {
      "name": "assignment_02.ipynb",
      "provenance": [],
      "authorship_tag": "ABX9TyNWsDLVBMU2oWSlU2OGJaVP",
      "include_colab_link": true
    },
    "kernelspec": {
      "name": "python3",
      "display_name": "Python 3"
    },
    "language_info": {
      "name": "python"
    }
  },
  "cells": [
    {
      "cell_type": "markdown",
      "metadata": {
        "id": "view-in-github",
        "colab_type": "text"
      },
      "source": [
        "<a href=\"https://colab.research.google.com/github/DanB1421/DanB1421/blob/main/assignment_02/assignment_02/assignment_02.ipynb\" target=\"_parent\"><img src=\"https://colab.research.google.com/assets/colab-badge.svg\" alt=\"Open In Colab\"/></a>"
      ]
    },
    {
      "cell_type": "markdown",
      "source": [
        "# Assignment 02\n",
        "\n",
        "- Name: Daniel Brilliant\n",
        "\n",
        "- Date: 02/10/2022"
      ],
      "metadata": {
        "id": "fOBWdy3MDJs3"
      }
    },
    {
      "cell_type": "code",
      "source": [
        "while True:\n",
        "    x = input(\"Enter 10 integers: \")\n",
        "    try:\n",
        "        y = list(map(int, x.split(\" \")))\n",
        "        if len(y) == 10:\n",
        "            print(y)\n",
        "        elif len(y) < 10:\n",
        "            continue\n",
        "        elif len(y) > 10:\n",
        "            continue\n",
        "        break\n",
        "    except:\n",
        "        print(\"Integers Only\")\n"
      ],
      "metadata": {
        "id": "zOCrkadeDRDY",
        "colab": {
          "base_uri": "https://localhost:8080/"
        },
        "outputId": "6e10f55c-7384-400a-95b4-a31c705756c8"
      },
      "execution_count": 35,
      "outputs": [
        {
          "output_type": "stream",
          "name": "stdout",
          "text": [
            "Enter 10 integers: 1 2 3 4 5 6 7 8 9\n",
            "Enter 10 integers: 1 2 3 4 5 6 7 8 9 10 11\n",
            "Enter 10 integers: 1 2 3 4 5 6 7 8 9 daniel\n",
            "Integers Only\n",
            "Enter 10 integers: 97 124 75 140 109 139 42 178 57 130\n",
            "[97, 124, 75, 140, 109, 139, 42, 178, 57, 130]\n"
          ]
        }
      ]
    },
    {
      "cell_type": "code",
      "source": [
        "y.sort()\n",
        "print(y)\n",
        "\n",
        "print(\"Minimum:\", y[0])\n",
        "\n",
        "print(\"Maximum:\", y[-1])\n",
        "\n",
        "range = y[-1] - y[0]\n",
        "print(\"Range:\", range)\n",
        "\n",
        "mean = sum(y)/len(y)\n",
        "print(\"Mean:\", mean)\n",
        "\n",
        "deviations = [(x - mean) ** 2 for x in y]\n",
        "variance = sum(deviations)/len(y)\n",
        "print(\"Variance:\", variance)\n",
        "\n",
        "stdev = (variance ** 0.5)\n",
        "print(\"Standard Deviation:\", stdev)"
      ],
      "metadata": {
        "id": "rWjcfujGBKn4",
        "outputId": "0cbef18c-0271-4fe7-ebdc-37e29ecad08e",
        "colab": {
          "base_uri": "https://localhost:8080/"
        }
      },
      "execution_count": 38,
      "outputs": [
        {
          "output_type": "stream",
          "name": "stdout",
          "text": [
            "[42, 57, 75, 97, 109, 124, 130, 139, 140, 178]\n",
            "Minimum: 42\n",
            "Maximum: 178\n",
            "Range: 136\n",
            "Mean: 109.1\n",
            "Variance: 1578.09\n",
            "Standard Deviation: 39.725180930991364\n"
          ]
        }
      ]
    }
  ]
}