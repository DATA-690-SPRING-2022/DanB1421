{
  "nbformat": 4,
  "nbformat_minor": 0,
  "metadata": {
    "colab": {
      "name": "assignment_02.ipynb",
      "provenance": [],
      "authorship_tag": "ABX9TyN+g7Ky0qPD1EUABZh/I2C7",
      "include_colab_link": true
    },
    "kernelspec": {
      "name": "python3",
      "display_name": "Python 3"
    },
    "language_info": {
      "name": "python"
    }
  },
  "cells": [
    {
      "cell_type": "markdown",
      "metadata": {
        "id": "view-in-github",
        "colab_type": "text"
      },
      "source": [
        "<a href=\"https://colab.research.google.com/github/DanB1421/DanB1421/blob/main/assignment_02/assignment_02.ipynb\" target=\"_parent\"><img src=\"https://colab.research.google.com/assets/colab-badge.svg\" alt=\"Open In Colab\"/></a>"
      ]
    },
    {
      "cell_type": "markdown",
      "source": [
        "# Assignment 02\n",
        "\n",
        "- Name: Daniel Brilliant\n",
        "\n",
        "- Date: 02/10/2022"
      ],
      "metadata": {
        "id": "fOBWdy3MDJs3"
      }
    },
    {
      "cell_type": "code",
      "source": [
        "while True:\n",
        "    x = input(\"Enter 10 integers: \")\n",
        "    try:\n",
        "        y = list(map(int, x.split(\" \")))\n",
        "        if len(y) == 10:\n",
        "            print(y)\n",
        "        elif len(y) < 10:\n",
        "            continue\n",
        "        elif len(y) > 10:\n",
        "            continue\n",
        "        break\n",
        "    except:\n",
        "        print(\"Integers Only\")\n"
      ],
      "metadata": {
        "id": "zOCrkadeDRDY",
        "colab": {
          "base_uri": "https://localhost:8080/"
        },
        "outputId": "4dc3b243-2c0a-4f33-f285-d21cffd8c1be"
      },
      "execution_count": 78,
      "outputs": [
        {
          "output_type": "stream",
          "name": "stdout",
          "text": [
            "Enter 10 integers: 1 2 3 4 5 6 7 8 9\n",
            "Enter 10 integers: 1 2 3 4 5 6 7 8 9 10 11\n",
            "Enter 10 integers: 1 2 3 4 5 6 7 8 9 daniel\n",
            "Integers Only\n",
            "Enter 10 integers: 10 29 38 47 56 65 74 83 92 101\n",
            "[10, 29, 38, 47, 56, 65, 74, 83, 92, 101]\n"
          ]
        }
      ]
    },
    {
      "cell_type": "code",
      "source": [
        "print(\"Minimum:\", min(y))\n",
        "\n",
        "print(\"Maximum:\", max(y))\n",
        "\n",
        "range = max(y) - min(y)\n",
        "print(\"Range:\", range)\n",
        "\n",
        "mean = sum(y)/len(y)\n",
        "print(\"Mean:\", mean)\n",
        "\n",
        "deviations = [(x - mean) ** 2 for x in y]\n",
        "variance = sum(deviations)/len(y)\n",
        "print(\"Variance:\", variance)\n",
        "\n",
        "stdev = (variance ** 0.5)\n",
        "print(\"Standard Deviation:\", stdev)"
      ],
      "metadata": {
        "id": "rWjcfujGBKn4",
        "outputId": "5797d57f-6a05-405a-8db2-0f5f0ebdfa26",
        "colab": {
          "base_uri": "https://localhost:8080/"
        }
      },
      "execution_count": 94,
      "outputs": [
        {
          "output_type": "stream",
          "name": "stdout",
          "text": [
            "Minimum: 10\n",
            "Maximum: 101\n",
            "Range: 91\n",
            "Mean: 59.5\n",
            "Variance: 758.25\n",
            "Standard Deviation: 27.536339626028727\n"
          ]
        }
      ]
    }
  ]
}