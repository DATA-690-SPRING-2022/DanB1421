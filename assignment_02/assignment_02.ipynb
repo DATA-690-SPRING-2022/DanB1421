{
  "nbformat": 4,
  "nbformat_minor": 0,
  "metadata": {
    "colab": {
      "name": "assignment_02.ipynb",
      "provenance": [],
      "collapsed_sections": [],
      "authorship_tag": "ABX9TyNDBuNkV/3sdWhPviMDiuXI",
      "include_colab_link": true
    },
    "kernelspec": {
      "name": "python3",
      "display_name": "Python 3"
    },
    "language_info": {
      "name": "python"
    }
  },
  "cells": [
    {
      "cell_type": "markdown",
      "metadata": {
        "id": "view-in-github",
        "colab_type": "text"
      },
      "source": [
        "<a href=\"https://colab.research.google.com/github/DanB1421/DanB1421/blob/main/assignment_02/assignment_02.ipynb\" target=\"_parent\"><img src=\"https://colab.research.google.com/assets/colab-badge.svg\" alt=\"Open In Colab\"/></a>"
      ]
    },
    {
      "cell_type": "markdown",
      "source": [
        "# Assignment 02\n",
        "\n",
        "- Name: Daniel Brilliant\n",
        "\n",
        "- Date: 02/10/2022"
      ],
      "metadata": {
        "id": "fOBWdy3MDJs3"
      }
    },
    {
      "cell_type": "code",
      "source": [
        "while True:\n",
        "    x = input(\"Enter 10 integers: \")  # input asks for a list of 10 integers\n",
        "    try:\n",
        "        y = list(map(int, x.split(\" \")))  # function produces list of integers delimited by spaces\n",
        "        if len(y) == 10:   \n",
        "            print(y)  # list prints if the number of integers is equal to 10\n",
        "        elif len(y) < 10:\n",
        "            continue  # input resets but keeps previous entry if the number of integers is less than 10\n",
        "        elif len(y) > 10:\n",
        "            continue  # input resets but keeps previous entry if the number of integers is greater than 10\n",
        "        break  # program stops running when list of integers is equal to 10\n",
        "    except:\n",
        "        print(\"Integers Only\")  # program prints \"Integers Only\" when non-integers are entered into the input\n"
      ],
      "metadata": {
        "id": "zOCrkadeDRDY",
        "colab": {
          "base_uri": "https://localhost:8080/"
        },
        "outputId": "3b97c785-18aa-48f5-c269-bab878ca8a15"
      },
      "execution_count": null,
      "outputs": [
        {
          "output_type": "stream",
          "name": "stdout",
          "text": [
            "Enter 10 integers: 1 2 3 4 5 6 7 8 9\n",
            "Enter 10 integers: 1 2 3 4 5 6 7 8 9 10 11\n",
            "Enter 10 integers: 1 2 3 4 5 6 7 8 9 daniel\n",
            "Integers Only\n",
            "Enter 10 integers: 97 124 75 140 109 139 42 178 57 130\n",
            "[97, 124, 75, 140, 109, 139, 42, 178, 57, 130]\n"
          ]
        }
      ]
    },
    {
      "cell_type": "code",
      "source": [
        "min = y[0]\n",
        "for i in y:\n",
        "    if i < min:\n",
        "        min = i  # minimum is determined by checking each integer in the list to see if it has a value less than the other integers listed\n",
        "print(\"Minimum:\", min)\n",
        "\n",
        "max = y[0]\n",
        "for i in y:\n",
        "    if i > max:\n",
        "        max = i  # maximum is determined by checking each integer in the list to see if it has a value more than the other integers listed\n",
        "print(\"Maximum:\", max)\n",
        "\n",
        "range = max - min  # range is determined by subtracting maximum from minimum\n",
        "print(\"Range:\", range)\n",
        "\n",
        "mean = sum(y)/len(y)  # mean is determined by dividing the sum of the listed integers by the list length\n",
        "print (\"Mean:\", mean)\n",
        "\n",
        "deviations = [(x - mean) ** 2 for x in y]\n",
        "variance = sum(deviations)/len(y)  # variance is determined by dividing the sum of all calculated deviations by the list length\n",
        "print(\"Variance:\", variance)\n",
        "\n",
        "stdev = (variance ** 0.5)  # standard deviation is determined by taking the square root of the variance\n",
        "print(\"Standard Deviation:\", stdev)"
      ],
      "metadata": {
        "id": "rWjcfujGBKn4",
        "colab": {
          "base_uri": "https://localhost:8080/"
        },
        "outputId": "2059a592-8042-47a1-abef-afde64a64eb9"
      },
      "execution_count": null,
      "outputs": [
        {
          "output_type": "stream",
          "name": "stdout",
          "text": [
            "Minimum: 42\n",
            "Maximum: 178\n",
            "Range: 136\n",
            "Mean: 109.1\n",
            "Variance: 1578.09\n",
            "Standard Deviation: 39.725180930991364\n"
          ]
        }
      ]
    }
  ]
}