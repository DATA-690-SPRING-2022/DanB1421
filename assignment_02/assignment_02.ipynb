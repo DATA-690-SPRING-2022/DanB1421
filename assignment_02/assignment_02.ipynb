{
  "nbformat": 4,
  "nbformat_minor": 0,
  "metadata": {
    "colab": {
      "name": "assignment_02.ipynb",
      "provenance": [],
      "authorship_tag": "ABX9TyNX/Bc0Sq+Uc3Xu2Sgc+En7",
      "include_colab_link": true
    },
    "kernelspec": {
      "name": "python3",
      "display_name": "Python 3"
    },
    "language_info": {
      "name": "python"
    }
  },
  "cells": [
    {
      "cell_type": "markdown",
      "metadata": {
        "id": "view-in-github",
        "colab_type": "text"
      },
      "source": [
        "<a href=\"https://colab.research.google.com/github/DanB1421/DanB1421/blob/main/assignment_02/assignment_02.ipynb\" target=\"_parent\"><img src=\"https://colab.research.google.com/assets/colab-badge.svg\" alt=\"Open In Colab\"/></a>"
      ]
    },
    {
      "cell_type": "markdown",
      "source": [
        "# Assignment 02\n",
        "\n",
        "- Name: Daniel Brilliant\n",
        "\n",
        "- Date: 02/10/2022"
      ],
      "metadata": {
        "id": "fOBWdy3MDJs3"
      }
    },
    {
      "cell_type": "code",
      "source": [
        "while True:\n",
        "    x = input(\"Enter 10 integers: \")\n",
        "    try:\n",
        "        y = list(map(int, x.split(\" \")))\n",
        "        if len(y) == 10:\n",
        "            print(y)\n",
        "        elif len(y) < 10:\n",
        "            continue\n",
        "        elif len(y) > 10:\n",
        "            continue\n",
        "        break\n",
        "    except:\n",
        "        print(\"Integers Only\")\n"
      ],
      "metadata": {
        "id": "zOCrkadeDRDY"
      },
      "execution_count": null,
      "outputs": []
    }
  ]
}