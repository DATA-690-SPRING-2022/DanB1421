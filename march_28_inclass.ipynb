{
  "nbformat": 4,
  "nbformat_minor": 0,
  "metadata": {
    "colab": {
      "name": "march_28_inclass.ipynb",
      "provenance": [],
      "authorship_tag": "ABX9TyPUMi74LHfOC0UAxt7/3VcE",
      "include_colab_link": true
    },
    "kernelspec": {
      "name": "python3",
      "display_name": "Python 3"
    },
    "language_info": {
      "name": "python"
    }
  },
  "cells": [
    {
      "cell_type": "markdown",
      "metadata": {
        "id": "view-in-github",
        "colab_type": "text"
      },
      "source": [
        "<a href=\"https://colab.research.google.com/github/DanB1421/DanB1421/blob/main/march_28_inclass.ipynb\" target=\"_parent\"><img src=\"https://colab.research.google.com/assets/colab-badge.svg\" alt=\"Open In Colab\"/></a>"
      ]
    },
    {
      "cell_type": "markdown",
      "source": [
        "DATA 606 4 teams: A, B, C, D Randomly select a team to present in class"
      ],
      "metadata": {
        "id": "xxyKfYhv0sSa"
      }
    },
    {
      "cell_type": "code",
      "source": [
        "import random"
      ],
      "metadata": {
        "id": "mCazLuB40-mD"
      },
      "execution_count": 1,
      "outputs": []
    },
    {
      "cell_type": "code",
      "source": [
        "# assign 0 to A, 1 to B, 2 to C, 3 to D\n",
        "\n",
        "team_list = [\"A\", \"B\", \"C\", \"D\"]\n",
        "\n",
        "print(\"Team\", random.choice(team_list), \"is randomly selected to present\")"
      ],
      "metadata": {
        "colab": {
          "base_uri": "https://localhost:8080/"
        },
        "id": "4RkGnd1W2yTf",
        "outputId": "a5eecf54-5136-48fa-bd21-d868f8262031"
      },
      "execution_count": 50,
      "outputs": [
        {
          "output_type": "stream",
          "name": "stdout",
          "text": [
            "Team B is randomly selected to present\n"
          ]
        }
      ]
    },
    {
      "cell_type": "code",
      "source": [
        "team_list = [\"A\", \"B\", \"C\", \"D\"]\n",
        "\n",
        "team_dict = {\n",
        "    \"A\":0,\n",
        "    \"B\":0,\n",
        "    \"C\":0,\n",
        "    \"D\":0\n",
        "}\n",
        "\n",
        "for i in range(1000000):    # range(start, stop, step) range(0, 10, 1), shortcut is range(10), range(10, 45, 2)\n",
        "\n",
        "    team_dict[random.choice(list(team_dict.keys()))] += 1    # team_dict[random.choice(team_list)] = team_dict[random.choice(team_list)] + 1\n",
        "\n",
        "print(team_dict)"
      ],
      "metadata": {
        "colab": {
          "base_uri": "https://localhost:8080/"
        },
        "id": "PlAENEws2Ec2",
        "outputId": "973a0abc-8df7-4752-b85e-1d9b65c70d51"
      },
      "execution_count": 64,
      "outputs": [
        {
          "output_type": "stream",
          "name": "stdout",
          "text": [
            "{'A': 250653, 'B': 249180, 'C': 250133, 'D': 250034}\n"
          ]
        }
      ]
    },
    {
      "cell_type": "code",
      "source": [
        "list(team_dict.keys())"
      ],
      "metadata": {
        "colab": {
          "base_uri": "https://localhost:8080/"
        },
        "id": "j2F0PEhx4yTp",
        "outputId": "e6d7d30e-e355-496e-df70-d5b864106a3b"
      },
      "execution_count": 62,
      "outputs": [
        {
          "output_type": "execute_result",
          "data": {
            "text/plain": [
              "['A', 'B', 'C', 'D']"
            ]
          },
          "metadata": {},
          "execution_count": 62
        }
      ]
    }
  ]
}