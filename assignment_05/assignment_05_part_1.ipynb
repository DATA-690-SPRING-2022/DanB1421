{
  "nbformat": 4,
  "nbformat_minor": 0,
  "metadata": {
    "colab": {
      "name": "assignment_05_part_1.ipynb",
      "provenance": [],
      "authorship_tag": "ABX9TyOJYN4CR9lUL0fepOCS/gk7",
      "include_colab_link": true
    },
    "kernelspec": {
      "name": "python3",
      "display_name": "Python 3"
    },
    "language_info": {
      "name": "python"
    }
  },
  "cells": [
    {
      "cell_type": "markdown",
      "metadata": {
        "id": "view-in-github",
        "colab_type": "text"
      },
      "source": [
        "<a href=\"https://colab.research.google.com/github/DanB1421/DanB1421/blob/main/assignment_05/assignment_05_part_1.ipynb\" target=\"_parent\"><img src=\"https://colab.research.google.com/assets/colab-badge.svg\" alt=\"Open In Colab\"/></a>"
      ]
    },
    {
      "cell_type": "markdown",
      "source": [
        "# Assignment 05: Part 1\n",
        "\n",
        "- Name: Daniel Brilliant\n",
        "- Date: 02/28/2022"
      ],
      "metadata": {
        "id": "kNemJx7N8GaW"
      }
    },
    {
      "cell_type": "markdown",
      "source": [
        "## What is data analysis?\n",
        "\n",
        "Wikipedia definition: a process of **inspecting, cleansing, transforming** and **modeling data** with the goal of **discovering useful information**, **informing conclusion, and supporting decision-making.**"
      ],
      "metadata": {
        "id": "GLSiwQxJ_i6j"
      }
    },
    {
      "cell_type": "markdown",
      "source": [
        "## Data Analysis Tools:\n",
        "\n",
        "- Auto-Managed Closed Tools: Qlik, Tableau, Looker, Zoho Analytics\n",
        "- Programming Languages: Python, R, Julia"
      ],
      "metadata": {
        "id": "p-UIPYF1_y9_"
      }
    },
    {
      "cell_type": "markdown",
      "source": [
        "## Advantages/Disadvantages of Auto-Managed Closed Tools:\n",
        "- Advantage: Easy to learn\n",
        "- Disadvantages: Closed source, expensive, limited\n",
        "\n",
        "## Advantages/Disadvantages of Programming Languages:\n",
        "- Advantages: Open source, free (or very cheap), extremely powerful\n",
        "- Disadvantages: Steep learning curve \n"
      ],
      "metadata": {
        "id": "_YerWue1AjTb"
      }
    },
    {
      "cell_type": "markdown",
      "source": [
        "## Why Python over other languages?\n",
        "- Simple and intuitive to learn\n",
        "- \"Correct\" language\n",
        "- Powerful libraries with uses outside of data analysis\n",
        "- Free and open source\n",
        "- Large community with widespread documentation and conferencing"
      ],
      "metadata": {
        "id": "uq2QBDbFBk7W"
      }
    },
    {
      "cell_type": "markdown",
      "source": [
        "## When do you use R?\n",
        "\n",
        "- When R Studio is needed\n",
        "- When dealing with advanced statistical methods\n",
        "- When extreme performance needed"
      ],
      "metadata": {
        "id": "ujdxmpOBB2Of"
      }
    },
    {
      "cell_type": "markdown",
      "source": [
        "## The Data Analysis Process\n",
        "\n",
        "- Generally 5 steps\n",
        "  - Data Extraction\n",
        "  - Data Cleaning\n",
        "  - Data Wrangling\n",
        "  - Analysis\n",
        "  - Action\n",
        "- Process is not always linear, more of a cycle that jumps back and forth \n",
        "\n"
      ],
      "metadata": {
        "id": "sTwOCFDOCL_N"
      }
    },
    {
      "cell_type": "markdown",
      "source": [
        "## Data Analysis vs Data Science\n",
        "\n",
        "- Data scientists are more programming/math based, can apply to machine learning and ETL processes\n",
        "- Data analysts are more communication based, write more detailed reports that use data to tell stories"
      ],
      "metadata": {
        "id": "G-aTfktqC3hI"
      }
    },
    {
      "cell_type": "markdown",
      "source": [
        "## Python & PyData Ecosystem\n",
        "\n",
        "Libraries used:\n",
        "- pandas: data analysis foundation library\n",
        "- matplotlib: visualization foundation library\n",
        "- numpy: numeric library/foundation for calculation\n",
        "- seaborn: visualization tool built on top of matplotlib\n",
        "- statsmodels: library with many advanced statistical functions\n",
        "- scipy: advanced scientific computing, with functions for optimization, linear algebra, image processing, etc\n",
        "- scikit-learn: most popular machine learning library for Python (not deep learning)"
      ],
      "metadata": {
        "id": "D6tMaT2VDUVf"
      }
    },
    {
      "cell_type": "markdown",
      "source": [
        "## How Python Data Analysts Think\n",
        "\n",
        "- Excel, Tableau, other tools use constant visual reference (work well for small amount of data)\n",
        "- Python has no constant visual reference, knowledge of data is there despite this and is able to process vast amounts of data and transfer data much more easily through methods such as the cloud"
      ],
      "metadata": {
        "id": "CEj0Af8QEQVV"
      }
    },
    {
      "cell_type": "markdown",
      "source": [
        "## Major Reasoning for Python Use\n",
        "\n",
        "- Professionals with Python/SQL knowledge get paid 20% more than those who don't"
      ],
      "metadata": {
        "id": "oBLs4TQQE0In"
      }
    }
  ]
}