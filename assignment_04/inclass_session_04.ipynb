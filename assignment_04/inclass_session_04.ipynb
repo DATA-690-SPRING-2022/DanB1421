{
  "nbformat": 4,
  "nbformat_minor": 0,
  "metadata": {
    "colab": {
      "name": "inclass_session_04.ipynb",
      "provenance": [],
      "authorship_tag": "ABX9TyNJoCprktq2HHvI3hXCiSAK",
      "include_colab_link": true
    },
    "kernelspec": {
      "name": "python3",
      "display_name": "Python 3"
    },
    "language_info": {
      "name": "python"
    }
  },
  "cells": [
    {
      "cell_type": "markdown",
      "metadata": {
        "id": "view-in-github",
        "colab_type": "text"
      },
      "source": [
        "<a href=\"https://colab.research.google.com/github/DanB1421/DanB1421/blob/main/assignment_04/inclass_session_04.ipynb\" target=\"_parent\"><img src=\"https://colab.research.google.com/assets/colab-badge.svg\" alt=\"Open In Colab\"/></a>"
      ]
    },
    {
      "cell_type": "markdown",
      "source": [
        "# In Class Practice\n",
        "\n",
        "- Date: 02/21/2022\n",
        "- Name: Daniel Brilliant"
      ],
      "metadata": {
        "id": "sJMhbdv20N3B"
      }
    },
    {
      "cell_type": "code",
      "source": [
        "import random \n",
        "import re \n",
        "for i in range(0,10): \n",
        "    print(end=\"\\n \") \n",
        "    for j in range(0,10): \n",
        "        num=random.randint(0,9) \n",
        "        if (num % 2) == 0: \n",
        "            print(num, end=\" \") \n",
        "        else: \n",
        "            strnum = str(num) \n",
        "            strnum=strnum.replace(strnum,\"@\") \n",
        "            print(strnum, end=\" \")"
      ],
      "metadata": {
        "colab": {
          "base_uri": "https://localhost:8080/"
        },
        "id": "S5U9mkNA0lDY",
        "outputId": "f284de77-ea02-4317-e94d-14eb4805ec32"
      },
      "execution_count": 41,
      "outputs": [
        {
          "output_type": "stream",
          "name": "stdout",
          "text": [
            "\n",
            " 0 @ 8 @ @ 4 8 @ @ @ \n",
            " 0 4 8 @ @ 4 2 2 0 @ \n",
            " @ @ 0 8 @ 2 4 6 0 @ \n",
            " @ 2 @ 8 8 @ 0 @ @ 4 \n",
            " @ @ 2 @ @ 0 6 @ @ 8 \n",
            " @ @ 4 @ @ @ 6 @ 2 @ \n",
            " @ @ @ @ 8 @ 6 4 @ @ \n",
            " @ @ @ @ 0 @ 6 @ 6 @ \n",
            " 8 6 @ 2 0 @ @ 2 @ 2 \n",
            " 2 @ @ @ 0 2 6 @ @ @ "
          ]
        }
      ]
    },
    {
      "cell_type": "code",
      "source": [
        "x = \"Hello, wporld!\"\n",
        "\n",
        "print(x)"
      ],
      "metadata": {
        "colab": {
          "base_uri": "https://localhost:8080/"
        },
        "id": "bU4qodt91E7e",
        "outputId": "71009681-9d23-4499-a821-37b49e392075"
      },
      "execution_count": 2,
      "outputs": [
        {
          "output_type": "stream",
          "name": "stdout",
          "text": [
            "Hello, wporld!\n"
          ]
        }
      ]
    },
    {
      "cell_type": "code",
      "source": [
        "x = x.replace(\"p\",\"\")\n",
        "\n",
        "print(x)"
      ],
      "metadata": {
        "colab": {
          "base_uri": "https://localhost:8080/"
        },
        "id": "na1rbm7m1LDH",
        "outputId": "7b93a9ed-4e7b-46ad-adf9-518288d364bc"
      },
      "execution_count": 3,
      "outputs": [
        {
          "output_type": "stream",
          "name": "stdout",
          "text": [
            "Hello, world!\n"
          ]
        }
      ]
    },
    {
      "cell_type": "code",
      "source": [
        "x = x.replace(\"Hello\", \"Hi\")\n",
        "\n",
        "print(x)"
      ],
      "metadata": {
        "colab": {
          "base_uri": "https://localhost:8080/"
        },
        "id": "zMW5lbbG1W1t",
        "outputId": "17422550-c445-4783-ab8c-e728e033d956"
      },
      "execution_count": 9,
      "outputs": [
        {
          "output_type": "stream",
          "name": "stdout",
          "text": [
            "Hi, world!\n"
          ]
        }
      ]
    },
    {
      "cell_type": "code",
      "source": [
        "x = x.replace(\"w\", \"W\")\n",
        "\n",
        "print(x)"
      ],
      "metadata": {
        "colab": {
          "base_uri": "https://localhost:8080/"
        },
        "id": "NTy7qdPG15Vp",
        "outputId": "6c36bc48-d0f9-498f-8cb6-f4a15ad71d9b"
      },
      "execution_count": 11,
      "outputs": [
        {
          "output_type": "stream",
          "name": "stdout",
          "text": [
            "Hi, World!\n"
          ]
        }
      ]
    },
    {
      "cell_type": "code",
      "source": [
        "x = x.upper()\n",
        "\n",
        "print(x)"
      ],
      "metadata": {
        "colab": {
          "base_uri": "https://localhost:8080/"
        },
        "id": "hTSw4EUY2N9W",
        "outputId": "732760a6-f21d-424c-f16e-8a2d04facce1"
      },
      "execution_count": 13,
      "outputs": [
        {
          "output_type": "stream",
          "name": "stdout",
          "text": [
            "HI, WORLD!\n"
          ]
        }
      ]
    },
    {
      "cell_type": "code",
      "source": [
        "x = x.lower()\n",
        "\n",
        "print(x)"
      ],
      "metadata": {
        "colab": {
          "base_uri": "https://localhost:8080/"
        },
        "id": "EP40T-ke2bOC",
        "outputId": "4c53fde2-9dd7-4dfb-b94d-5668207a2d74"
      },
      "execution_count": 14,
      "outputs": [
        {
          "output_type": "stream",
          "name": "stdout",
          "text": [
            "hi, world!\n"
          ]
        }
      ]
    },
    {
      "cell_type": "markdown",
      "source": [
        "# String functions/methods/operations\n",
        "\n",
        "- upper()\n",
        "- lower()\n",
        "- replace()\n",
        "- strip()\n",
        "- lstrip()\n",
        "- rstrip()"
      ],
      "metadata": {
        "id": "fQJlaP-Y2q2b"
      }
    },
    {
      "cell_type": "code",
      "source": [
        "#  generate 100 number first\n",
        "\n",
        "numbers=[]    # This list is to hold 100 random numbers\n",
        "for i in range(100):\n",
        "    numbers.append(random.randint(0,9))\n",
        "\n",
        "print(numbers)\n",
        "print(len(numbers))"
      ],
      "metadata": {
        "colab": {
          "base_uri": "https://localhost:8080/"
        },
        "id": "BCzAeyUa3AFA",
        "outputId": "7b6f0511-5f14-4856-a01c-0b2815b3dba3"
      },
      "execution_count": 17,
      "outputs": [
        {
          "output_type": "stream",
          "name": "stdout",
          "text": [
            "[9, 6, 4, 9, 5, 3, 1, 7, 4, 2, 1, 1, 5, 2, 9, 7, 5, 9, 9, 7, 7, 0, 0, 9, 0, 1, 0, 0, 2, 0, 0, 6, 2, 6, 8, 8, 8, 6, 0, 3, 1, 0, 7, 5, 6, 3, 7, 1, 8, 3, 0, 7, 4, 3, 6, 6, 3, 7, 2, 8, 4, 4, 7, 7, 0, 2, 1, 6, 9, 1, 3, 7, 6, 0, 2, 2, 0, 2, 5, 5, 8, 6, 7, 1, 8, 2, 1, 2, 1, 9, 5, 3, 9, 9, 7, 1, 5, 6, 2, 4]\n",
            "100\n"
          ]
        }
      ]
    },
    {
      "cell_type": "code",
      "source": [
        "for i in range(0,100,1):\n",
        "    print(\"index = \", i, \"member = \", numbers[i])"
      ],
      "metadata": {
        "colab": {
          "base_uri": "https://localhost:8080/"
        },
        "id": "8TdRWIC744ip",
        "outputId": "9640c8c6-9c75-4611-dcef-f3917a8cee03"
      },
      "execution_count": 38,
      "outputs": [
        {
          "output_type": "stream",
          "name": "stdout",
          "text": [
            "index =  0 member =  9\n",
            "index =  1 member =  6\n",
            "index =  2 member =  4\n",
            "index =  3 member =  9\n",
            "index =  4 member =  5\n",
            "index =  5 member =  3\n",
            "index =  6 member =  1\n",
            "index =  7 member =  7\n",
            "index =  8 member =  4\n",
            "index =  9 member =  2\n",
            "index =  10 member =  1\n",
            "index =  11 member =  1\n",
            "index =  12 member =  5\n",
            "index =  13 member =  2\n",
            "index =  14 member =  9\n",
            "index =  15 member =  7\n",
            "index =  16 member =  5\n",
            "index =  17 member =  9\n",
            "index =  18 member =  9\n",
            "index =  19 member =  7\n",
            "index =  20 member =  7\n",
            "index =  21 member =  0\n",
            "index =  22 member =  0\n",
            "index =  23 member =  9\n",
            "index =  24 member =  0\n",
            "index =  25 member =  1\n",
            "index =  26 member =  0\n",
            "index =  27 member =  0\n",
            "index =  28 member =  2\n",
            "index =  29 member =  0\n",
            "index =  30 member =  0\n",
            "index =  31 member =  6\n",
            "index =  32 member =  2\n",
            "index =  33 member =  6\n",
            "index =  34 member =  8\n",
            "index =  35 member =  8\n",
            "index =  36 member =  8\n",
            "index =  37 member =  6\n",
            "index =  38 member =  0\n",
            "index =  39 member =  3\n",
            "index =  40 member =  1\n",
            "index =  41 member =  0\n",
            "index =  42 member =  7\n",
            "index =  43 member =  5\n",
            "index =  44 member =  6\n",
            "index =  45 member =  3\n",
            "index =  46 member =  7\n",
            "index =  47 member =  1\n",
            "index =  48 member =  8\n",
            "index =  49 member =  3\n",
            "index =  50 member =  0\n",
            "index =  51 member =  7\n",
            "index =  52 member =  4\n",
            "index =  53 member =  3\n",
            "index =  54 member =  6\n",
            "index =  55 member =  6\n",
            "index =  56 member =  3\n",
            "index =  57 member =  7\n",
            "index =  58 member =  2\n",
            "index =  59 member =  8\n",
            "index =  60 member =  4\n",
            "index =  61 member =  4\n",
            "index =  62 member =  7\n",
            "index =  63 member =  7\n",
            "index =  64 member =  0\n",
            "index =  65 member =  2\n",
            "index =  66 member =  1\n",
            "index =  67 member =  6\n",
            "index =  68 member =  9\n",
            "index =  69 member =  1\n",
            "index =  70 member =  3\n",
            "index =  71 member =  7\n",
            "index =  72 member =  6\n",
            "index =  73 member =  0\n",
            "index =  74 member =  2\n",
            "index =  75 member =  2\n",
            "index =  76 member =  0\n",
            "index =  77 member =  2\n",
            "index =  78 member =  5\n",
            "index =  79 member =  5\n",
            "index =  80 member =  8\n",
            "index =  81 member =  6\n",
            "index =  82 member =  7\n",
            "index =  83 member =  1\n",
            "index =  84 member =  8\n",
            "index =  85 member =  2\n",
            "index =  86 member =  1\n",
            "index =  87 member =  2\n",
            "index =  88 member =  1\n",
            "index =  89 member =  9\n",
            "index =  90 member =  5\n",
            "index =  91 member =  3\n",
            "index =  92 member =  9\n",
            "index =  93 member =  9\n",
            "index =  94 member =  7\n",
            "index =  95 member =  1\n",
            "index =  96 member =  5\n",
            "index =  97 member =  6\n",
            "index =  98 member =  2\n",
            "index =  99 member =  4\n"
          ]
        }
      ]
    },
    {
      "cell_type": "code",
      "source": [
        "count=0\n",
        "for i in range(10):\n",
        "    for j in range(10):\n",
        "        print(numbers[count], \" \", end=\" \")\n",
        "        count+=1\n",
        "    print(\"\\n\")"
      ],
      "metadata": {
        "colab": {
          "base_uri": "https://localhost:8080/"
        },
        "id": "xoz_n9983nIG",
        "outputId": "900afb3f-a711-4a88-9a0c-e3eebd7f7f11"
      },
      "execution_count": 27,
      "outputs": [
        {
          "output_type": "stream",
          "name": "stdout",
          "text": [
            "9   6   4   9   5   3   1   7   4   2   \n",
            "\n",
            "1   1   5   2   9   7   5   9   9   7   \n",
            "\n",
            "7   0   0   9   0   1   0   0   2   0   \n",
            "\n",
            "0   6   2   6   8   8   8   6   0   3   \n",
            "\n",
            "1   0   7   5   6   3   7   1   8   3   \n",
            "\n",
            "0   7   4   3   6   6   3   7   2   8   \n",
            "\n",
            "4   4   7   7   0   2   1   6   9   1   \n",
            "\n",
            "3   7   6   0   2   2   0   2   5   5   \n",
            "\n",
            "8   6   7   1   8   2   1   2   1   9   \n",
            "\n",
            "5   3   9   9   7   1   5   6   2   4   \n",
            "\n"
          ]
        }
      ]
    },
    {
      "cell_type": "code",
      "source": [
        "# when to initialize a variable\n",
        " \n",
        "sum=0\n",
        "for n in range(10): #repeats each row 10 times\n",
        "    for i in range(10):\n",
        "        y = random.randint(0,9) #repeats each integer 10 times\n",
        "        sum = sum + y\n",
        "        print(y,end=\" \") #prints one integer with space at the end\n",
        "    print(\"*\",sum,end=\"\\n\") #starts a new row with 10 integers\n",
        "    sum=0"
      ],
      "metadata": {
        "colab": {
          "base_uri": "https://localhost:8080/"
        },
        "id": "sChVdke86AwT",
        "outputId": "4fd6ddd5-e319-494d-ea8b-588db58d200e"
      },
      "execution_count": 45,
      "outputs": [
        {
          "output_type": "stream",
          "name": "stdout",
          "text": [
            "7 5 2 5 5 4 0 6 7 4 * 45\n",
            "1 4 6 1 1 1 5 5 3 8 * 35\n",
            "6 1 1 5 1 3 1 4 2 3 * 27\n",
            "2 7 7 7 0 5 1 2 7 7 * 45\n",
            "3 7 3 1 7 2 8 8 5 6 * 50\n",
            "4 6 8 2 5 5 1 7 4 1 * 43\n",
            "2 9 0 9 8 8 2 8 7 0 * 53\n",
            "9 8 6 5 5 9 9 9 9 8 * 77\n",
            "3 0 3 6 6 3 8 1 0 8 * 38\n",
            "9 4 3 0 5 3 2 5 2 2 * 35\n"
          ]
        }
      ]
    },
    {
      "cell_type": "code",
      "source": [
        "# when to initialize a variable\n",
        " \n",
        "sum=0\n",
        "for n in range(10):\n",
        "    for i in range(10):\n",
        "        y = random.randint(0,9)\n",
        "        sum = sum + y\n",
        "        print(y,end=\" \")\n",
        "    print(\"*\",sum,end=\"\\n\")\n",
        "    sum=0"
      ],
      "metadata": {
        "id": "kkHX2wIH6yM5"
      },
      "execution_count": null,
      "outputs": []
    },
    {
      "cell_type": "code",
      "source": [
        "# when to initialize a variable\n",
        " \n",
        "\n",
        "for n in range(10):\n",
        "    sum=0\n",
        "    for i in range(10):\n",
        "        y = random.randint(0,9)\n",
        "        sum = sum + y\n",
        "        print(y,end=\" \")\n",
        "    print(\"*\",sum,end=\"\\n\")"
      ],
      "metadata": {
        "colab": {
          "base_uri": "https://localhost:8080/"
        },
        "id": "UKa8WkCV6-bj",
        "outputId": "56f50098-7f8d-40ef-91f6-64585bd578d2"
      },
      "execution_count": 47,
      "outputs": [
        {
          "output_type": "stream",
          "name": "stdout",
          "text": [
            "5 6 6 9 7 8 1 0 8 3 * 53\n",
            "4 6 0 9 9 6 7 2 8 9 * 60\n",
            "8 8 0 8 6 0 1 7 2 3 * 43\n",
            "0 3 4 2 6 5 6 0 1 8 * 35\n",
            "7 9 7 0 1 8 1 9 7 7 * 56\n",
            "4 2 8 8 1 2 4 5 2 8 * 44\n",
            "6 5 6 1 2 6 0 2 9 9 * 46\n",
            "9 1 9 4 6 4 9 1 6 2 * 51\n",
            "4 0 4 6 8 6 2 8 7 6 * 51\n",
            "2 4 1 5 2 0 0 3 3 0 * 20\n"
          ]
        }
      ]
    },
    {
      "cell_type": "code",
      "source": [
        "x = [0,0,0,0,0,0]\n",
        "\n",
        "print(x)"
      ],
      "metadata": {
        "colab": {
          "base_uri": "https://localhost:8080/"
        },
        "id": "CDSC8mCr7GVp",
        "outputId": "f669f82c-c6a5-4a79-e3c2-2d58073b430e"
      },
      "execution_count": 48,
      "outputs": [
        {
          "output_type": "stream",
          "name": "stdout",
          "text": [
            "[0, 0, 0, 0, 0, 0]\n"
          ]
        }
      ]
    },
    {
      "cell_type": "code",
      "source": [
        "x = [0]*6\n",
        "\n",
        "print(x)"
      ],
      "metadata": {
        "colab": {
          "base_uri": "https://localhost:8080/"
        },
        "id": "StZkSI0f7J9l",
        "outputId": "a0956db2-acdc-48ec-d388-976a9cdc3a0d"
      },
      "execution_count": 49,
      "outputs": [
        {
          "output_type": "stream",
          "name": "stdout",
          "text": [
            "[0, 0, 0, 0, 0, 0]\n"
          ]
        }
      ]
    },
    {
      "cell_type": "code",
      "source": [
        "x = [0]*100\n",
        "\n",
        "print(x)"
      ],
      "metadata": {
        "colab": {
          "base_uri": "https://localhost:8080/"
        },
        "id": "NR1m6bf17OSa",
        "outputId": "9cd84d86-1b8f-4517-97c5-c55d586c1d0b"
      },
      "execution_count": 50,
      "outputs": [
        {
          "output_type": "stream",
          "name": "stdout",
          "text": [
            "[0, 0, 0, 0, 0, 0, 0, 0, 0, 0, 0, 0, 0, 0, 0, 0, 0, 0, 0, 0, 0, 0, 0, 0, 0, 0, 0, 0, 0, 0, 0, 0, 0, 0, 0, 0, 0, 0, 0, 0, 0, 0, 0, 0, 0, 0, 0, 0, 0, 0, 0, 0, 0, 0, 0, 0, 0, 0, 0, 0, 0, 0, 0, 0, 0, 0, 0, 0, 0, 0, 0, 0, 0, 0, 0, 0, 0, 0, 0, 0, 0, 0, 0, 0, 0, 0, 0, 0, 0, 0, 0, 0, 0, 0, 0, 0, 0, 0, 0, 0]\n"
          ]
        }
      ]
    }
  ]
}