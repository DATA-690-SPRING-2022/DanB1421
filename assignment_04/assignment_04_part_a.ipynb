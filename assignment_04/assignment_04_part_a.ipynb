{
  "nbformat": 4,
  "nbformat_minor": 0,
  "metadata": {
    "colab": {
      "name": "assignment_04_part_a.ipynb",
      "provenance": [],
      "authorship_tag": "ABX9TyPMUVHkPper82moUsCCZv2o",
      "include_colab_link": true
    },
    "kernelspec": {
      "name": "python3",
      "display_name": "Python 3"
    },
    "language_info": {
      "name": "python"
    }
  },
  "cells": [
    {
      "cell_type": "markdown",
      "metadata": {
        "id": "view-in-github",
        "colab_type": "text"
      },
      "source": [
        "<a href=\"https://colab.research.google.com/github/DanB1421/DanB1421/blob/main/assignment_04/assignment_04_part_a.ipynb\" target=\"_parent\"><img src=\"https://colab.research.google.com/assets/colab-badge.svg\" alt=\"Open In Colab\"/></a>"
      ]
    },
    {
      "cell_type": "markdown",
      "source": [
        "# Assignment 04: Part A\n",
        "\n",
        "- Name: Daniel Brilliant\n",
        "- Date: 02/22/2022"
      ],
      "metadata": {
        "id": "iYEQoMnmQS2E"
      }
    },
    {
      "cell_type": "markdown",
      "source": [
        "## 1. Write code to open the text file census_costs.txt and read all lines into a list named \"line_list\" and print line_list."
      ],
      "metadata": {
        "id": "4pK0v1P_QfpW"
      }
    },
    {
      "cell_type": "code",
      "source": [
        "with open (\"census_costs.txt\", \"r\") as f:  # open file and define it as \"f\"\n",
        "    line_list = f.readlines()  # define a list of lines from file \"f\" as line_list\n",
        "\n",
        "line_list  # print line_list"
      ],
      "metadata": {
        "colab": {
          "base_uri": "https://localhost:8080/"
        },
        "id": "UmHChkTMQeKK",
        "outputId": "f34ea80d-ba06-40b6-c569-56f157d6c92d"
      },
      "execution_count": null,
      "outputs": [
        {
          "output_type": "execute_result",
          "data": {
            "text/plain": [
              "['Source: https://www.genealogybranches.com/censuscosts.html\\n',\n",
              " 'Census Year\\tTotal Population\\tCensus Cost\\tAverage Cost Per Person\\n',\n",
              " '1790\\t3,929,214\\t$44,377\\t1.13 cents\\n',\n",
              " '1800\\t5,308,483\\t$66,109\\t1.24 cents\\n',\n",
              " '1810\\t7,239,881\\t$178,445\\t2.46 cents\\n',\n",
              " '1820\\t9,633,822\\t$208,526\\t2.16 cents\\n',\n",
              " '1830\\t12,866,020\\t$378,545\\t2.94 cents\\n',\n",
              " '1840\\t17,069,458\\t$833,371\\t4.88 cents\\n',\n",
              " '1850\\t23,191,876\\t$1,423,351\\t6.14 cents\\n',\n",
              " '1860\\t31,443,321\\t$1,969,377\\t6.26 cents\\n',\n",
              " '1870\\t38,558,371\\t$3,421,198\\t8.87 cents\\n',\n",
              " '1880\\t50,155,783\\t$5,790,678\\t11.54 cents\\n',\n",
              " '1890\\t62,979,766\\t$11,547,127\\t18.33 cents\\n',\n",
              " '1900\\t76,303,387\\t$11,854,000\\t15.54 cents\\n',\n",
              " '1910\\t91,972,266\\t$15,968,000\\t17.07 cents\\n',\n",
              " '1920\\t105,710,620\\t$25,117,000\\t23.76 cents\\n',\n",
              " '1930\\t122,775,046\\t$40,156,000\\t32.71 cents\\n',\n",
              " '1940\\t131,669,275\\t$67,527,000\\t51.29 cents\\n',\n",
              " '1950\\t151,325,798\\t$91,462,000\\t60.44 cents\\n',\n",
              " '1960\\t179,323,175\\t$127,934,000\\t71.34 cents\\n',\n",
              " '1970\\t203,302,031\\t$247,653,000\\t$1.22\\n',\n",
              " '1980\\t226,542,199\\t$1,078,488,000\\t$4.76\\n',\n",
              " '1990\\t248,718,301\\t$2,492,830,000\\t$10.02\\n',\n",
              " '2000\\t281,421,906\\t$4.5 Billion\\t$15.99\\n',\n",
              " '2010*\\t308,745,538\\t$13 Billion\\t$42.11\\n']"
            ]
          },
          "metadata": {},
          "execution_count": 3
        }
      ]
    },
    {
      "cell_type": "markdown",
      "source": [
        "## 2. Extract the first two lines and put them in a different list named \"top2_list\". Print the top2_list."
      ],
      "metadata": {
        "id": "m1xO0gaCRaI6"
      }
    },
    {
      "cell_type": "code",
      "source": [
        "top2_list = line_list[0:2]  # define the first two lines from line_list as top2_list\n",
        "\n",
        "top2_list  # print top2_list"
      ],
      "metadata": {
        "colab": {
          "base_uri": "https://localhost:8080/"
        },
        "id": "Z1OD04BERiAc",
        "outputId": "1ed013cc-8213-40ec-b1d2-6c8a5ae45212"
      },
      "execution_count": null,
      "outputs": [
        {
          "output_type": "execute_result",
          "data": {
            "text/plain": [
              "['Source: https://www.genealogybranches.com/censuscosts.html\\n',\n",
              " 'Census Year\\tTotal Population\\tCensus Cost\\tAverage Cost Per Person\\n']"
            ]
          },
          "metadata": {},
          "execution_count": 17
        }
      ]
    },
    {
      "cell_type": "markdown",
      "source": [
        "## 3. Put the rest of the lines in a new list named \"data_list\". Print data_list.\n"
      ],
      "metadata": {
        "id": "uTVUbgiUSDJR"
      }
    },
    {
      "cell_type": "code",
      "source": [
        "data_list = line_list[2:]  # define the last 23 lines from line_list as data_list\n",
        "\n",
        "data_list  # print data_list\n"
      ],
      "metadata": {
        "colab": {
          "base_uri": "https://localhost:8080/"
        },
        "id": "TtAkVOoRSJ2u",
        "outputId": "0485680c-4ea6-4a59-a01a-1f369179f445"
      },
      "execution_count": null,
      "outputs": [
        {
          "output_type": "execute_result",
          "data": {
            "text/plain": [
              "['1790\\t3,929,214\\t$44,377\\t1.13 cents\\n',\n",
              " '1800\\t5,308,483\\t$66,109\\t1.24 cents\\n',\n",
              " '1810\\t7,239,881\\t$178,445\\t2.46 cents\\n',\n",
              " '1820\\t9,633,822\\t$208,526\\t2.16 cents\\n',\n",
              " '1830\\t12,866,020\\t$378,545\\t2.94 cents\\n',\n",
              " '1840\\t17,069,458\\t$833,371\\t4.88 cents\\n',\n",
              " '1850\\t23,191,876\\t$1,423,351\\t6.14 cents\\n',\n",
              " '1860\\t31,443,321\\t$1,969,377\\t6.26 cents\\n',\n",
              " '1870\\t38,558,371\\t$3,421,198\\t8.87 cents\\n',\n",
              " '1880\\t50,155,783\\t$5,790,678\\t11.54 cents\\n',\n",
              " '1890\\t62,979,766\\t$11,547,127\\t18.33 cents\\n',\n",
              " '1900\\t76,303,387\\t$11,854,000\\t15.54 cents\\n',\n",
              " '1910\\t91,972,266\\t$15,968,000\\t17.07 cents\\n',\n",
              " '1920\\t105,710,620\\t$25,117,000\\t23.76 cents\\n',\n",
              " '1930\\t122,775,046\\t$40,156,000\\t32.71 cents\\n',\n",
              " '1940\\t131,669,275\\t$67,527,000\\t51.29 cents\\n',\n",
              " '1950\\t151,325,798\\t$91,462,000\\t60.44 cents\\n',\n",
              " '1960\\t179,323,175\\t$127,934,000\\t71.34 cents\\n',\n",
              " '1970\\t203,302,031\\t$247,653,000\\t$1.22\\n',\n",
              " '1980\\t226,542,199\\t$1,078,488,000\\t$4.76\\n',\n",
              " '1990\\t248,718,301\\t$2,492,830,000\\t$10.02\\n',\n",
              " '2000\\t281,421,906\\t$4.5 Billion\\t$15.99\\n',\n",
              " '2010*\\t308,745,538\\t$13 Billion\\t$42.11\\n']"
            ]
          },
          "metadata": {},
          "execution_count": 223
        }
      ]
    },
    {
      "cell_type": "markdown",
      "source": [
        "## 4. Extract the column \"Census Year\" from data_list and assign them to a list named year_list. Remove the \"\\*\" from the last element \"2010*\". Print the cleansed year_list."
      ],
      "metadata": {
        "id": "uJCbO9L3SjCi"
      }
    },
    {
      "cell_type": "code",
      "source": [
        "year_list = []  # produce list named year_list\n",
        "\n",
        "for line in data_list:\n",
        "    year = line[0:5]  # define the year data points from lines in data_list\n",
        "    year_list.append(year)  # add years to list\n",
        "\n",
        "print(year_list)  # print list of years\n",
        "\n",
        "cleansed_year_list = []  # produce cleansed list of years\n",
        "\n",
        "for year in year_list:\n",
        "    cleaned_year = year.replace(\"\\t\", \"\")  # remove tabs from year data\n",
        "    cleansed_year = cleaned_year.replace(\"*\", \"\")  # remove * from year data\n",
        "    cleansed_year_list.append(int(cleansed_year))  # add cleansed year data to list as integers\n",
        "\n",
        "print(cleansed_year_list)  # print cleansed list of years    "
      ],
      "metadata": {
        "colab": {
          "base_uri": "https://localhost:8080/"
        },
        "id": "NbkfESR9Sn1V",
        "outputId": "41363723-5869-4736-be57-2502b8aef514"
      },
      "execution_count": null,
      "outputs": [
        {
          "output_type": "stream",
          "name": "stdout",
          "text": [
            "['1790\\t', '1800\\t', '1810\\t', '1820\\t', '1830\\t', '1840\\t', '1850\\t', '1860\\t', '1870\\t', '1880\\t', '1890\\t', '1900\\t', '1910\\t', '1920\\t', '1930\\t', '1940\\t', '1950\\t', '1960\\t', '1970\\t', '1980\\t', '1990\\t', '2000\\t', '2010*']\n",
            "[1790, 1800, 1810, 1820, 1830, 1840, 1850, 1860, 1870, 1880, 1890, 1900, 1910, 1920, 1930, 1940, 1950, 1960, 1970, 1980, 1990, 2000, 2010]\n"
          ]
        }
      ]
    },
    {
      "cell_type": "markdown",
      "source": [
        "## 5. Extract the \"Total Population\" column from the data_list and assign them to a list named \"pop_list\". Remove the \",\" from the numbers. Print the cleansed \"pop_list\"."
      ],
      "metadata": {
        "id": "DmXC1GMmUnY3"
      }
    },
    {
      "cell_type": "code",
      "source": [
        "pop_list = []  # produce list named pop_list\n",
        "\n",
        "for line in data_list:\n",
        "    part_list = line.split(\"\\t\")  # produce lines in parts by removing tab delimitor\n",
        "    pop = part_list[1]  # define the pop data points as the second item in part_list\n",
        "    pop_list.append(pop)  # add pops to list\n",
        "\n",
        "print(pop_list)  # print list of pops\n",
        "\n",
        "cleansed_pop_list = []  # produce cleansed list of pops\n",
        "\n",
        "for pop in pop_list:\n",
        "    cleansed_pop = pop.replace(\",\", \"\")  # remove , from pop data\n",
        "    cleansed_pop_list.append(int(cleansed_pop))  # add cleansed pop data to list as integers\n",
        "\n",
        "print(cleansed_pop_list)  # print cleansed list of pops "
      ],
      "metadata": {
        "colab": {
          "base_uri": "https://localhost:8080/"
        },
        "id": "HKgX7OqqUuOm",
        "outputId": "638730dc-4e4b-4d52-94d1-5f68323b8c66"
      },
      "execution_count": null,
      "outputs": [
        {
          "output_type": "stream",
          "name": "stdout",
          "text": [
            "['3,929,214', '5,308,483', '7,239,881', '9,633,822', '12,866,020', '17,069,458', '23,191,876', '31,443,321', '38,558,371', '50,155,783', '62,979,766', '76,303,387', '91,972,266', '105,710,620', '122,775,046', '131,669,275', '151,325,798', '179,323,175', '203,302,031', '226,542,199', '248,718,301', '281,421,906', '308,745,538']\n",
            "[3929214, 5308483, 7239881, 9633822, 12866020, 17069458, 23191876, 31443321, 38558371, 50155783, 62979766, 76303387, 91972266, 105710620, 122775046, 131669275, 151325798, 179323175, 203302031, 226542199, 248718301, 281421906, 308745538]\n"
          ]
        }
      ]
    },
    {
      "cell_type": "markdown",
      "source": [
        "## 6. Extract the \"Census Cost\" column from the data_list and assign them to a list named \"cost_list\". Remove the \",\", and \"$\", and \"Billion\". Add the \"0\"s to the numbers from which you removed \"Billion\". Print the cleansed cost_list.\n"
      ],
      "metadata": {
        "id": "FeZLvAtVWhZB"
      }
    },
    {
      "cell_type": "code",
      "source": [
        "cost_list = []  # produce list named cost_list\n",
        "\n",
        "for line in data_list:\n",
        "    part_list = line.split(\"\\t\")  # produce lines in parts by removing tab delimitor\n",
        "    cost = part_list[2]  # define the cost data points as the thirf item in part_list\n",
        "    cost_list.append(cost)  # add cost to list\n",
        " \n",
        "print(cost_list)  # print list of costs\n",
        "\n",
        "cleansed_cost_list = []  # produce cleansed list of costs\n",
        "\n",
        "for cost in cost_list:\n",
        "    clean_cost = cost.replace(\",\", \"\")  # remove , from cost data\n",
        "    cleaning_cost = clean_cost.replace(\"$\", \"\")  # remove $ from cost data\n",
        "    cleaner_cost = cleaning_cost.replace(\" Billion\", \"000000000\")  # replace \" Billion\" in cost data with 9 0's\n",
        "    cleansed_cost = cleaner_cost.replace(\".5000000000\", \"500000000\")  # replace \".5000000000\" with \"500000000\" to remove . and give proper number of 0s to 4.5 billion\n",
        "    cleansed_cost_list.append(int(cleansed_cost))  # add cleansed cost data to list as integers\n",
        "\n",
        "print(cleansed_cost_list)  # print cleansed list of costs"
      ],
      "metadata": {
        "colab": {
          "base_uri": "https://localhost:8080/"
        },
        "id": "xKIH0HGjWlzs",
        "outputId": "4fa3f1d6-2828-4d99-9cca-22fb07d74f23"
      },
      "execution_count": null,
      "outputs": [
        {
          "output_type": "stream",
          "name": "stdout",
          "text": [
            "['$44,377', '$66,109', '$178,445', '$208,526', '$378,545', '$833,371', '$1,423,351', '$1,969,377', '$3,421,198', '$5,790,678', '$11,547,127', '$11,854,000', '$15,968,000', '$25,117,000', '$40,156,000', '$67,527,000', '$91,462,000', '$127,934,000', '$247,653,000', '$1,078,488,000', '$2,492,830,000', '$4.5 Billion', '$13 Billion']\n",
            "[44377, 66109, 178445, 208526, 378545, 833371, 1423351, 1969377, 3421198, 5790678, 11547127, 11854000, 15968000, 25117000, 40156000, 67527000, 91462000, 127934000, 247653000, 1078488000, 2492830000, 4500000000, 13000000000]\n"
          ]
        }
      ]
    },
    {
      "cell_type": "markdown",
      "source": [
        "## 7. Extract the \"Average Cost per Person\" column from the data_list and assign them to a list named \"avg_list\". Remove the \"cents\", and \"$\". Make sure all numbers are measured in dollars. Print the cleansed avg_list."
      ],
      "metadata": {
        "id": "nx3bPn3jaaXj"
      }
    },
    {
      "cell_type": "code",
      "source": [
        "avg_list = []  # produce list named avg_list\n",
        "\n",
        "for line in data_list:\n",
        "    part_list = line.split(\"\\t\")  # produce lines in parts by removing tab delimitor\n",
        "    avg = part_list[3]  # define the avg data points as the second item in part_list\n",
        "    avg_list.append(avg)  # add avg to list\n",
        " \n",
        "print(avg_list)  # print list of avgs\n",
        "\n",
        "cleansed_avg_list = []  # produce cleansed list of avgs\n",
        "\n",
        "for avg in avg_list:\n",
        "    clean_avg = avg.replace(\"\\n\", \"\")  # remove line breaks from cost data\n",
        "    cleaning_avg = clean_avg.replace(\" cents\", \"\")  # remove \" cents\" from data\n",
        "    cleansed_avg = cleaning_avg.replace(\"$\", \"\")  # remove $ from data\n",
        "    cleansed_avg_list.append(float(cleansed_avg))  # add cleansed average data to list as floating point values\n",
        "\n",
        "for avg in range(18):\n",
        "    cleansed_avg_list[avg] = round(cleansed_avg_list[avg]/100, 4) # convert data points in cents to data points in dollars with four decimal places\n",
        "\n",
        "print(cleansed_avg_list)  # print cleansed list of avgs"
      ],
      "metadata": {
        "colab": {
          "base_uri": "https://localhost:8080/"
        },
        "id": "tgweYBR7alpq",
        "outputId": "91752418-8440-4cdb-8ab4-4346eb3900dc"
      },
      "execution_count": null,
      "outputs": [
        {
          "output_type": "stream",
          "name": "stdout",
          "text": [
            "['1.13 cents\\n', '1.24 cents\\n', '2.46 cents\\n', '2.16 cents\\n', '2.94 cents\\n', '4.88 cents\\n', '6.14 cents\\n', '6.26 cents\\n', '8.87 cents\\n', '11.54 cents\\n', '18.33 cents\\n', '15.54 cents\\n', '17.07 cents\\n', '23.76 cents\\n', '32.71 cents\\n', '51.29 cents\\n', '60.44 cents\\n', '71.34 cents\\n', '$1.22\\n', '$4.76\\n', '$10.02\\n', '$15.99\\n', '$42.11\\n']\n",
            "[0.0113, 0.0124, 0.0246, 0.0216, 0.0294, 0.0488, 0.0614, 0.0626, 0.0887, 0.1154, 0.1833, 0.1554, 0.1707, 0.2376, 0.3271, 0.5129, 0.6044, 0.7134, 1.22, 4.76, 10.02, 15.99, 42.11]\n"
          ]
        }
      ]
    },
    {
      "cell_type": "markdown",
      "source": [
        "## 8. Coalesce the cleansed data and save them to a text file named \"census_cost.csv\". The new file should look similar to the original source file except that it is in comma-delimited format and the numbers have been cleansed. The top two lines from the original file should be retained in the new file."
      ],
      "metadata": {
        "id": "TUvImqdflgkk"
      }
    },
    {
      "cell_type": "code",
      "source": [
        "cleansed_year_str = [str(i) for i in cleansed_year_list]\n",
        "cleansed_pop_str = [str(i) for i in cleansed_pop_list]\n",
        "cleansed_cost_str = [str(i) for i in cleansed_cost_list]\n",
        "cleansed_avg_str = [str(avg) for avg in cleansed_avg_list]\n",
        "\n",
        "cleansed_data = list(zip(cleansed_year_str, cleansed_pop_str, cleansed_cost_str, cleansed_avg_str))\n",
        "cleansed_data_str = [\", \".join(tup) for tup in cleansed_data]\n",
        "\n",
        "cleansed_line_list = []\n",
        "\n",
        "for line in top2_list:\n",
        "    clean_line = line.replace(\"\\t\", \", \")\n",
        "    cleansed_line = clean_line.replace(\"\\n\",\"\")\n",
        "    cleansed_line_list.append(cleansed_line)\n",
        "\n",
        "cleansed_line_list.extend(cleansed_data_str)\n",
        "\n",
        "cleansed_line_list\n",
        "\n",
        "with open('census_cost.csv', 'w') as output_file:\n",
        "    for row in cleansed_line_list:\n",
        "        output_file.write(row + '\\n')"
      ],
      "metadata": {
        "id": "73jD4sD7w1o9"
      },
      "execution_count": 314,
      "outputs": []
    },
    {
      "cell_type": "markdown",
      "source": [
        "## 9. Write code to open the newly-created file \"census_cost.csv\", read all lines and display them. How does it look?"
      ],
      "metadata": {
        "id": "VYwLn0HJ8eIX"
      }
    },
    {
      "cell_type": "code",
      "source": [
        "with open (\"census_cost.csv\", \"r\") as f:  # open file and define it as \"f\"\n",
        "    new_line_list = f.readlines()  # define a list of lines from file \"f\" as line_list\n",
        "\n",
        "new_line_list  # print line_list"
      ],
      "metadata": {
        "colab": {
          "base_uri": "https://localhost:8080/"
        },
        "id": "x5HKNGfa8laf",
        "outputId": "70d99506-8edc-4c70-d84e-5c3def65c88c"
      },
      "execution_count": 316,
      "outputs": [
        {
          "output_type": "execute_result",
          "data": {
            "text/plain": [
              "['Source: https://www.genealogybranches.com/censuscosts.html\\n',\n",
              " 'Census Year, Total Population, Census Cost, Average Cost Per Person\\n',\n",
              " '1790, 3929214, 44377, 0.0113\\n',\n",
              " '1800, 5308483, 66109, 0.0124\\n',\n",
              " '1810, 7239881, 178445, 0.0246\\n',\n",
              " '1820, 9633822, 208526, 0.0216\\n',\n",
              " '1830, 12866020, 378545, 0.0294\\n',\n",
              " '1840, 17069458, 833371, 0.0488\\n',\n",
              " '1850, 23191876, 1423351, 0.0614\\n',\n",
              " '1860, 31443321, 1969377, 0.0626\\n',\n",
              " '1870, 38558371, 3421198, 0.0887\\n',\n",
              " '1880, 50155783, 5790678, 0.1154\\n',\n",
              " '1890, 62979766, 11547127, 0.1833\\n',\n",
              " '1900, 76303387, 11854000, 0.1554\\n',\n",
              " '1910, 91972266, 15968000, 0.1707\\n',\n",
              " '1920, 105710620, 25117000, 0.2376\\n',\n",
              " '1930, 122775046, 40156000, 0.3271\\n',\n",
              " '1940, 131669275, 67527000, 0.5129\\n',\n",
              " '1950, 151325798, 91462000, 0.6044\\n',\n",
              " '1960, 179323175, 127934000, 0.7134\\n',\n",
              " '1970, 203302031, 247653000, 1.22\\n',\n",
              " '1980, 226542199, 1078488000, 4.76\\n',\n",
              " '1990, 248718301, 2492830000, 10.02\\n',\n",
              " '2000, 281421906, 4500000000, 15.99\\n',\n",
              " '2010, 308745538, 13000000000, 42.11\\n']"
            ]
          },
          "metadata": {},
          "execution_count": 316
        }
      ]
    }
  ]
}